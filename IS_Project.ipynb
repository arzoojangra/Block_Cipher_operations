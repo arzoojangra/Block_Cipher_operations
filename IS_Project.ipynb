{
  "nbformat": 4,
  "nbformat_minor": 0,
  "metadata": {
    "colab": {
      "name": "IS_Project.ipynb",
      "provenance": [],
      "collapsed_sections": []
    },
    "kernelspec": {
      "name": "python3",
      "display_name": "Python 3"
    },
    "language_info": {
      "name": "python"
    }
  },
  "cells": [
    {
      "cell_type": "markdown",
      "source": [
        "**Information Security Project**\n",
        "\n",
        "Modes of Block Cipher Operation\n",
        "\n",
        "\n",
        "\n",
        "1.   Electronic Codebook (ECB)\n",
        "2.   Cipher Block Chaining (CBC)\n",
        "3.   Cipher Feedback Mode (CFB)\n",
        "4.   Output Feedback (OFB)\n",
        "5.   Counter mode (CTR)\n"
      ],
      "metadata": {
        "id": "FM9eBAaKu9JJ"
      }
    },
    {
      "cell_type": "markdown",
      "source": [
        "Submitted to: Mr. Vikas Kumar\n",
        "\n",
        "Submitted by: \n",
        "\n",
        "Arzoo Jangra\n",
        "\n",
        "MSc 1st year\n",
        "\n",
        "06"
      ],
      "metadata": {
        "id": "Rgq83NiSw_DK"
      }
    },
    {
      "cell_type": "code",
      "source": [
        "pip install pycrypto"
      ],
      "metadata": {
        "colab": {
          "base_uri": "https://localhost:8080/"
        },
        "id": "yQY8gEvHCOXR",
        "outputId": "6de6d6da-e598-4972-c6db-0a7670fe92a0"
      },
      "execution_count": null,
      "outputs": [
        {
          "output_type": "stream",
          "name": "stdout",
          "text": [
            "Collecting pycrypto\n",
            "  Downloading pycrypto-2.6.1.tar.gz (446 kB)\n",
            "\u001b[?25l\r\u001b[K     |▊                               | 10 kB 6.6 MB/s eta 0:00:01\r\u001b[K     |█▌                              | 20 kB 6.2 MB/s eta 0:00:01\r\u001b[K     |██▏                             | 30 kB 5.2 MB/s eta 0:00:01\r\u001b[K     |███                             | 40 kB 3.5 MB/s eta 0:00:01\r\u001b[K     |███▊                            | 51 kB 3.1 MB/s eta 0:00:01\r\u001b[K     |████▍                           | 61 kB 3.7 MB/s eta 0:00:01\r\u001b[K     |█████▏                          | 71 kB 4.0 MB/s eta 0:00:01\r\u001b[K     |█████▉                          | 81 kB 4.5 MB/s eta 0:00:01\r\u001b[K     |██████▋                         | 92 kB 3.8 MB/s eta 0:00:01\r\u001b[K     |███████▍                        | 102 kB 3.8 MB/s eta 0:00:01\r\u001b[K     |████████                        | 112 kB 3.8 MB/s eta 0:00:01\r\u001b[K     |████████▉                       | 122 kB 3.8 MB/s eta 0:00:01\r\u001b[K     |█████████▌                      | 133 kB 3.8 MB/s eta 0:00:01\r\u001b[K     |██████████▎                     | 143 kB 3.8 MB/s eta 0:00:01\r\u001b[K     |███████████                     | 153 kB 3.8 MB/s eta 0:00:01\r\u001b[K     |███████████▊                    | 163 kB 3.8 MB/s eta 0:00:01\r\u001b[K     |████████████▌                   | 174 kB 3.8 MB/s eta 0:00:01\r\u001b[K     |█████████████▏                  | 184 kB 3.8 MB/s eta 0:00:01\r\u001b[K     |██████████████                  | 194 kB 3.8 MB/s eta 0:00:01\r\u001b[K     |██████████████▊                 | 204 kB 3.8 MB/s eta 0:00:01\r\u001b[K     |███████████████▍                | 215 kB 3.8 MB/s eta 0:00:01\r\u001b[K     |████████████████▏               | 225 kB 3.8 MB/s eta 0:00:01\r\u001b[K     |█████████████████               | 235 kB 3.8 MB/s eta 0:00:01\r\u001b[K     |█████████████████▋              | 245 kB 3.8 MB/s eta 0:00:01\r\u001b[K     |██████████████████▍             | 256 kB 3.8 MB/s eta 0:00:01\r\u001b[K     |███████████████████             | 266 kB 3.8 MB/s eta 0:00:01\r\u001b[K     |███████████████████▉            | 276 kB 3.8 MB/s eta 0:00:01\r\u001b[K     |████████████████████▋           | 286 kB 3.8 MB/s eta 0:00:01\r\u001b[K     |█████████████████████▎          | 296 kB 3.8 MB/s eta 0:00:01\r\u001b[K     |██████████████████████          | 307 kB 3.8 MB/s eta 0:00:01\r\u001b[K     |██████████████████████▊         | 317 kB 3.8 MB/s eta 0:00:01\r\u001b[K     |███████████████████████▌        | 327 kB 3.8 MB/s eta 0:00:01\r\u001b[K     |████████████████████████▎       | 337 kB 3.8 MB/s eta 0:00:01\r\u001b[K     |█████████████████████████       | 348 kB 3.8 MB/s eta 0:00:01\r\u001b[K     |█████████████████████████▊      | 358 kB 3.8 MB/s eta 0:00:01\r\u001b[K     |██████████████████████████▍     | 368 kB 3.8 MB/s eta 0:00:01\r\u001b[K     |███████████████████████████▏    | 378 kB 3.8 MB/s eta 0:00:01\r\u001b[K     |████████████████████████████    | 389 kB 3.8 MB/s eta 0:00:01\r\u001b[K     |████████████████████████████▋   | 399 kB 3.8 MB/s eta 0:00:01\r\u001b[K     |█████████████████████████████▍  | 409 kB 3.8 MB/s eta 0:00:01\r\u001b[K     |██████████████████████████████  | 419 kB 3.8 MB/s eta 0:00:01\r\u001b[K     |██████████████████████████████▉ | 430 kB 3.8 MB/s eta 0:00:01\r\u001b[K     |███████████████████████████████▋| 440 kB 3.8 MB/s eta 0:00:01\r\u001b[K     |████████████████████████████████| 446 kB 3.8 MB/s \n",
            "\u001b[?25hBuilding wheels for collected packages: pycrypto\n",
            "  Building wheel for pycrypto (setup.py) ... \u001b[?25l\u001b[?25hdone\n",
            "  Created wheel for pycrypto: filename=pycrypto-2.6.1-cp37-cp37m-linux_x86_64.whl size=499932 sha256=d547e48e3d1450112d0d73f069ebf41eaf1554afac0c2e77973f089bf8939b52\n",
            "  Stored in directory: /root/.cache/pip/wheels/cf/85/ba/bbd7c96add459de7598fb424e5ff2309baf2095c844ac0f191\n",
            "Successfully built pycrypto\n",
            "Installing collected packages: pycrypto\n",
            "Successfully installed pycrypto-2.6.1\n"
          ]
        }
      ]
    },
    {
      "cell_type": "code",
      "source": [
        "import os\n",
        "from tqdm import tqdm\n",
        "\n",
        "def random_key_generator(key_length):\n",
        "    \n",
        "    ## Creates a random key with key_length written in hexadecimal as string\n",
        "    ## Paramaters\n",
        "    ## ----------\n",
        "    ## key_length : int\n",
        "    ## Key length in bits\n",
        "    ## Returns\n",
        "    ## -------\n",
        "    ## key : string\n",
        "    ## Key in hexadecimal as string\n",
        "    \n",
        "    return bytes.hex(os.urandom(key_length // 8))\n",
        "\n",
        "class AES:   ## A class used to encapsulate every method and attribute necessary to encrypt with AES algorithm. \n",
        "    \n",
        "    ## Parameters\n",
        "    ## ----------\n",
        "    ## key : string\n",
        "    ## Cipher Key written in hex as string.\n",
        "    ## mode : int\n",
        "    ## Key length (default 128)\n",
        "    ## Attributes\n",
        "    ## Sbox : tuple\n",
        "    ##    Substitution table used in the SubBytes operation\n",
        "    ## InvSbox : tuple \n",
        "    ##    Substitution table used in the InvSubBytes operation\n",
        "    ## Nb : int\n",
        "    ##    Number of columns of 32-bit words comprising the State\n",
        "    ## Nk : int\n",
        "    ##    Number of 32-bit words comprising the Cipher Key\n",
        "    ## Nr : int\n",
        "    ##    Number of rounds\n",
        "    \n",
        "    Nb = 4\n",
        "\n",
        "    Nk = 4\n",
        "\n",
        "    Nr = 10\n",
        "\n",
        "    Sbox = (\n",
        "        0x63, 0x7C, 0x77, 0x7B, 0xF2, 0x6B, 0x6F, 0xC5, 0x30, 0x01, 0x67, 0x2B, 0xFE, 0xD7, 0xAB, 0x76,\n",
        "        0xCA, 0x82, 0xC9, 0x7D, 0xFA, 0x59, 0x47, 0xF0, 0xAD, 0xD4, 0xA2, 0xAF, 0x9C, 0xA4, 0x72, 0xC0,\n",
        "        0xB7, 0xFD, 0x93, 0x26, 0x36, 0x3F, 0xF7, 0xCC, 0x34, 0xA5, 0xE5, 0xF1, 0x71, 0xD8, 0x31, 0x15,\n",
        "        0x04, 0xC7, 0x23, 0xC3, 0x18, 0x96, 0x05, 0x9A, 0x07, 0x12, 0x80, 0xE2, 0xEB, 0x27, 0xB2, 0x75,\n",
        "        0x09, 0x83, 0x2C, 0x1A, 0x1B, 0x6E, 0x5A, 0xA0, 0x52, 0x3B, 0xD6, 0xB3, 0x29, 0xE3, 0x2F, 0x84,\n",
        "        0x53, 0xD1, 0x00, 0xED, 0x20, 0xFC, 0xB1, 0x5B, 0x6A, 0xCB, 0xBE, 0x39, 0x4A, 0x4C, 0x58, 0xCF,\n",
        "        0xD0, 0xEF, 0xAA, 0xFB, 0x43, 0x4D, 0x33, 0x85, 0x45, 0xF9, 0x02, 0x7F, 0x50, 0x3C, 0x9F, 0xA8,\n",
        "        0x51, 0xA3, 0x40, 0x8F, 0x92, 0x9D, 0x38, 0xF5, 0xBC, 0xB6, 0xDA, 0x21, 0x10, 0xFF, 0xF3, 0xD2,\n",
        "        0xCD, 0x0C, 0x13, 0xEC, 0x5F, 0x97, 0x44, 0x17, 0xC4, 0xA7, 0x7E, 0x3D, 0x64, 0x5D, 0x19, 0x73,\n",
        "        0x60, 0x81, 0x4F, 0xDC, 0x22, 0x2A, 0x90, 0x88, 0x46, 0xEE, 0xB8, 0x14, 0xDE, 0x5E, 0x0B, 0xDB,\n",
        "        0xE0, 0x32, 0x3A, 0x0A, 0x49, 0x06, 0x24, 0x5C, 0xC2, 0xD3, 0xAC, 0x62, 0x91, 0x95, 0xE4, 0x79,\n",
        "        0xE7, 0xC8, 0x37, 0x6D, 0x8D, 0xD5, 0x4E, 0xA9, 0x6C, 0x56, 0xF4, 0xEA, 0x65, 0x7A, 0xAE, 0x08,\n",
        "        0xBA, 0x78, 0x25, 0x2E, 0x1C, 0xA6, 0xB4, 0xC6, 0xE8, 0xDD, 0x74, 0x1F, 0x4B, 0xBD, 0x8B, 0x8A,\n",
        "        0x70, 0x3E, 0xB5, 0x66, 0x48, 0x03, 0xF6, 0x0E, 0x61, 0x35, 0x57, 0xB9, 0x86, 0xC1, 0x1D, 0x9E,\n",
        "        0xE1, 0xF8, 0x98, 0x11, 0x69, 0xD9, 0x8E, 0x94, 0x9B, 0x1E, 0x87, 0xE9, 0xCE, 0x55, 0x28, 0xDF,\n",
        "        0x8C, 0xA1, 0x89, 0x0D, 0xBF, 0xE6, 0x42, 0x68, 0x41, 0x99, 0x2D, 0x0F, 0xB0, 0x54, 0xBB, 0x16,\n",
        "    )\n",
        "\n",
        "    InvSbox = (\n",
        "        0x52, 0x09, 0x6A, 0xD5, 0x30, 0x36, 0xA5, 0x38, 0xBF, 0x40, 0xA3, 0x9E, 0x81, 0xF3, 0xD7, 0xFB,\n",
        "        0x7C, 0xE3, 0x39, 0x82, 0x9B, 0x2F, 0xFF, 0x87, 0x34, 0x8E, 0x43, 0x44, 0xC4, 0xDE, 0xE9, 0xCB,\n",
        "        0x54, 0x7B, 0x94, 0x32, 0xA6, 0xC2, 0x23, 0x3D, 0xEE, 0x4C, 0x95, 0x0B, 0x42, 0xFA, 0xC3, 0x4E,\n",
        "        0x08, 0x2E, 0xA1, 0x66, 0x28, 0xD9, 0x24, 0xB2, 0x76, 0x5B, 0xA2, 0x49, 0x6D, 0x8B, 0xD1, 0x25,\n",
        "        0x72, 0xF8, 0xF6, 0x64, 0x86, 0x68, 0x98, 0x16, 0xD4, 0xA4, 0x5C, 0xCC, 0x5D, 0x65, 0xB6, 0x92,\n",
        "        0x6C, 0x70, 0x48, 0x50, 0xFD, 0xED, 0xB9, 0xDA, 0x5E, 0x15, 0x46, 0x57, 0xA7, 0x8D, 0x9D, 0x84,\n",
        "        0x90, 0xD8, 0xAB, 0x00, 0x8C, 0xBC, 0xD3, 0x0A, 0xF7, 0xE4, 0x58, 0x05, 0xB8, 0xB3, 0x45, 0x06,\n",
        "        0xD0, 0x2C, 0x1E, 0x8F, 0xCA, 0x3F, 0x0F, 0x02, 0xC1, 0xAF, 0xBD, 0x03, 0x01, 0x13, 0x8A, 0x6B,\n",
        "        0x3A, 0x91, 0x11, 0x41, 0x4F, 0x67, 0xDC, 0xEA, 0x97, 0xF2, 0xCF, 0xCE, 0xF0, 0xB4, 0xE6, 0x73,\n",
        "        0x96, 0xAC, 0x74, 0x22, 0xE7, 0xAD, 0x35, 0x85, 0xE2, 0xF9, 0x37, 0xE8, 0x1C, 0x75, 0xDF, 0x6E,\n",
        "        0x47, 0xF1, 0x1A, 0x71, 0x1D, 0x29, 0xC5, 0x89, 0x6F, 0xB7, 0x62, 0x0E, 0xAA, 0x18, 0xBE, 0x1B,\n",
        "        0xFC, 0x56, 0x3E, 0x4B, 0xC6, 0xD2, 0x79, 0x20, 0x9A, 0xDB, 0xC0, 0xFE, 0x78, 0xCD, 0x5A, 0xF4,\n",
        "        0x1F, 0xDD, 0xA8, 0x33, 0x88, 0x07, 0xC7, 0x31, 0xB1, 0x12, 0x10, 0x59, 0x27, 0x80, 0xEC, 0x5F,\n",
        "        0x60, 0x51, 0x7F, 0xA9, 0x19, 0xB5, 0x4A, 0x0D, 0x2D, 0xE5, 0x7A, 0x9F, 0x93, 0xC9, 0x9C, 0xEF,\n",
        "        0xA0, 0xE0, 0x3B, 0x4D, 0xAE, 0x2A, 0xF5, 0xB0, 0xC8, 0xEB, 0xBB, 0x3C, 0x83, 0x53, 0x99, 0x61,\n",
        "        0x17, 0x2B, 0x04, 0x7E, 0xBA, 0x77, 0xD6, 0x26, 0xE1, 0x69, 0x14, 0x63, 0x55, 0x21, 0x0C, 0x7D,\n",
        "    )\n",
        "\n",
        "    Rcon = (\n",
        "        0x00, 0x01, 0x02, 0x04, 0x08, 0x10, 0x20, 0x40,\n",
        "        0x80, 0x1B, 0x36, 0x6C, 0xD8, 0xAB, 0x4D, 0x9A,\n",
        "        0x2F, 0x5E, 0xBC, 0x63, 0xC6, 0x97, 0x35, 0x6A,\n",
        "        0xD4, 0xB3, 0x7D, 0xFA, 0xEF, 0xC5, 0x91, 0x39,\n",
        "    )\n",
        "\n",
        "\n",
        "    def __init__(self, key, mode=128):\n",
        "        if mode == 192:\n",
        "            self.Nk = 6\n",
        "            self.Nr = 12\n",
        "            self.key = self.text2matrix(key, 24)\n",
        "        elif mode == 256:\n",
        "            self.Nk = 8\n",
        "            self.Nr = 14\n",
        "            self.key = self.text2matrix(key, 32)\n",
        "        else:\n",
        "            self.key = self.text2matrix(key)\n",
        "\n",
        "        self.key_expansion(self.key)\n",
        "\n",
        "    def text2matrix(self, text, len=16):     ## Transforms a 128/192/256 bit block written in plain text form to the State form.\n",
        "        ## Parameters\n",
        "        ## text : string\n",
        "        ##  128 bit block in plain text\n",
        "        \n",
        "        state = []\n",
        "\n",
        "        for i in range(len):\n",
        "            # two hex characters == 1 byte\n",
        "            byte = int(text[i*2:i*2+2], 16)\n",
        "            if i % 4 == 0:\n",
        "                # this means that the byte to append is the first of the column\n",
        "                state.append([byte])\n",
        "            else:\n",
        "                # Append byte to the row i // 4 \n",
        "                state[i // 4].append(byte) \n",
        "\n",
        "        return state\n",
        "\n",
        "    def matrix2text(self, s, len=16):    ## Transforms a 128/192/256 bit block written in State form into plain text.\n",
        "        ## Parameters\n",
        "        ## s : matrix\n",
        "        ##    State\n",
        "        text = \"\"\n",
        "        for i in range(len // 4):\n",
        "            for j in range(4):\n",
        "                text += format(s[i][j], '02x')\n",
        "\n",
        "        return text\n",
        "\n",
        "    def sub_bytes(self, s):     ## Replaces the values in the State matrix with values in S-Box\n",
        "        ## Parameters\n",
        "        ## s : matrix\n",
        "        ## State\n",
        "        for i in range(self.Nb):\n",
        "            for j in range(4):\n",
        "                s[i][j] = self.Sbox[s[i][j]]\n",
        "    \n",
        "    def inv_sub_bytes(self, s):\n",
        "        # Replaces the values in the State matrix with Values in Inv S-Box\n",
        "        # Parameters\n",
        "        # ----------\n",
        "        # s : matrix\n",
        "        #     State\n",
        "\n",
        "        for i in range(self.Nb):\n",
        "            for j in range(4):\n",
        "                s[i][j] = self.InvSbox[s[i][j]]\n",
        "\n",
        "    def shift_rows(self, s):\n",
        "        # Shifts cyclically the bytes of the last three rows.\n",
        "        # Parameters\n",
        "        # ----------\n",
        "        # s : matrix\n",
        "        #     State\n",
        "\n",
        "        s[0][1], s[1][1], s[2][1], s[3][1] = s[1][1], s[2][1], s[3][1], s[0][1]\n",
        "        s[0][2], s[1][2], s[2][2], s[3][2] = s[2][2], s[3][2], s[0][2], s[1][2]\n",
        "        s[0][3], s[1][3], s[2][3], s[3][3] = s[3][3], s[0][3], s[1][3], s[2][3]\n",
        "\n",
        "    def inv_shift_rows(self, s):\n",
        "        \n",
        "        # Shifts cyclically the bytes of the last three rows. It's \n",
        "        # the inverse of shift_rows().\n",
        "        # Parameters\n",
        "        # ----------\n",
        "        # s : matrix\n",
        "        #     State\n",
        "        \n",
        "\n",
        "        s[0][1], s[1][1], s[2][1], s[3][1] = s[3][1], s[0][1], s[1][1], s[2][1]\n",
        "        s[0][2], s[1][2], s[2][2], s[3][2] = s[2][2], s[3][2], s[0][2], s[1][2]\n",
        "        s[0][3], s[1][3], s[2][3], s[3][3] = s[1][3], s[2][3], s[3][3], s[0][3]\n",
        "\n",
        "    def xtime(self, b):\n",
        "        \n",
        "        # Makes a left shift (byte level) to the given polynomial.\n",
        "        # This is the same as multiplying by x.\n",
        "        # Described in Nist Fips 197. Section 4.2.1.\n",
        "        # Parameters\n",
        "        # ----------\n",
        "        # b : byte\n",
        "        #     Byte \n",
        "        \n",
        "        if b & 0x80:\n",
        "            # check if b7 of the given polynomial is 1 or 0.\n",
        "            b = b << 1\n",
        "            b ^= 0x1B\n",
        "        else:\n",
        "            b = b << 1\n",
        "\n",
        "        return b & 0xFF # get the first 8 bits.\n",
        "\n",
        "    def mix_one_column(self, c):\n",
        "        \n",
        "        # Mix a column by multiplying it by the polynomial\n",
        "        # a(x) = {03}x^3 + {01}x^2 + {01}x + {02}.\n",
        "        # Implementation: The Design of Rijndael. Section 4.1.2\n",
        "        # Parameters\n",
        "        # ----------\n",
        "        # c : array\n",
        "        #     Column from State\n",
        "        \n",
        "        t = c[0] ^ c[1] ^ c[2] ^ c[3]\n",
        "        u = c[0]\n",
        "        c[0] ^= self.xtime(c[0] ^ c[1]) ^ t\n",
        "        c[1] ^= self.xtime(c[1] ^ c[2]) ^ t\n",
        "        c[2] ^= self.xtime(c[2] ^ c[3]) ^ t\n",
        "        c[3] ^= self.xtime(c[3] ^ u) ^ t\n",
        "\n",
        "    def mix_columns(self, s):\n",
        "        \n",
        "        # Mix columns.\n",
        "        # Parameters\n",
        "        # ----------\n",
        "        # s : matrix\n",
        "        #     State\n",
        "        \n",
        "\n",
        "        for i in range(self.Nb):\n",
        "            self.mix_one_column(s[i])\n",
        "\n",
        "    def inv_mix_columns(self, s):\n",
        "        \n",
        "        # Operates the State column by column treating each column as a fourterm polynomial and multipliying it with the fixed\n",
        "        # polynomial a^-1(x) = {0b}x^3 + {0d}x^2 + {09}x + {0e}\n",
        "        # Implementation: The Design of Rijndael. Section 4.1.3\n",
        "        # Parameters\n",
        "        # ----------\n",
        "        # s : matrix\n",
        "        #     State\n",
        "        \n",
        "\n",
        "        for i in range(self.Nb):\n",
        "            u = self.xtime(self.xtime(s[i][0] ^ s[i][2]))\n",
        "            v = self.xtime(self.xtime(s[i][1] ^ s[i][3]))\n",
        "            s[i][0] ^= u\n",
        "            s[i][1] ^= v\n",
        "            s[i][2] ^= u\n",
        "            s[i][3] ^= v\n",
        "\n",
        "        self.mix_columns(s)\n",
        "\n",
        "    def add_round_key(self, s, k):\n",
        "        \n",
        "        # Add round key to the State.\n",
        "        # Parameters\n",
        "        # ----------\n",
        "        \n",
        "        # s : matrix\n",
        "        #     State\n",
        "        # k : matrix\n",
        "        #     Key\n",
        "        \n",
        "        for i in range(self.Nb):\n",
        "            for j in range(4):\n",
        "                s[i][j] ^= k[i][j]\n",
        "\n",
        "    def sub_word(self, w):\n",
        "        \n",
        "        # Take a four-byte word and applies the S-Box\n",
        "        # Parameters\n",
        "        # ----------\n",
        "        # w : vector\n",
        "        #     Word \n",
        "        \n",
        "        for i in range(len(w)):\n",
        "            w[i] = self.Sbox[w[i]]\n",
        "\n",
        "\n",
        "    def rotate_word(self, w):\n",
        "        \n",
        "        # Take a four-byte word and performs a cyclic permutation.\n",
        "        # Parameters\n",
        "        # ----------\n",
        "        # w : vector\n",
        "        #     Word\n",
        "        \n",
        "\n",
        "        w[0], w[1], w[2], w[3] = w[1], w[2], w[3], w[0]\n",
        "\n",
        "    def key_expansion(self, key):\n",
        "        \n",
        "        # Takes the Cipher Key and performs a Key Expansion.\n",
        "        # Parameters\n",
        "        # ----------\n",
        "        # key : string\n",
        "        #     Cipher Key in string format.\n",
        "               \n",
        "\n",
        "        self.round_keys = self.key\n",
        "\n",
        "        for i in range(self.Nk, self.Nb * (self.Nr + 1)):\n",
        "            self.round_keys.append([0, 0, 0, 0])\n",
        "            temp = self.round_keys[i - 1][:]\n",
        "            # word is multiple of Nk\n",
        "            if i % self.Nk == 0:\n",
        "                self.rotate_word(temp)\n",
        "                self.sub_word(temp)\n",
        "                temp[0] = temp[0] ^ self.Rcon[i // self.Nk]\n",
        "            elif self.Nk > 6 and i % self.Nk == 4:\n",
        "                # If Nk = 8 (AES-256) and i - 4 is multiple of Nk\n",
        "                # then SUbWord() is applied to word[i - 1] prior to\n",
        "                # the XOR.\n",
        "                self.sub_word(temp)\n",
        "\n",
        "            for j in range(4):\n",
        "                self.round_keys[i][j] = self.round_keys[i - self.Nk][j] ^ temp[j]\n",
        "\n",
        "    def cipher(self, text):\n",
        "        \n",
        "        # Ciphers the given text with the key given in the class constructor.\n",
        "        # Parameters\n",
        "        # ----------\n",
        "        # text : string\n",
        "        #     128 bit block in plain text.\n",
        "        # Returns\n",
        "        # -------\n",
        "        # encrypted_text : string\n",
        "        #     128 bit block in plain text encrypted with the key expecified\n",
        "        #     in the class constructor.\n",
        "        \n",
        "\n",
        "        self.state = self.text2matrix(text)\n",
        "\n",
        "        self.add_round_key(self.state, self.round_keys[:4])\n",
        "\n",
        "        for i in range(1, self.Nr):\n",
        "            self.sub_bytes(self.state)\n",
        "            self.shift_rows(self.state)\n",
        "            self.mix_columns(self.state)\n",
        "            self.add_round_key(self.state, self.round_keys[self.Nb * i : self.Nb * (i + 1)])\n",
        "\n",
        "        self.sub_bytes(self.state)\n",
        "        self.shift_rows(self.state)\n",
        "        self.add_round_key(self.state, self.round_keys[len(self.round_keys) - 4:])\n",
        "\n",
        "        return self.matrix2text(self.state)\n",
        "\n",
        "    def decipher(self, text):\n",
        "        \n",
        "        # Deciphers the given encrypted text with the key given in the class constructor.\n",
        "        # Parameters\n",
        "        # ----------\n",
        "        # text : string\n",
        "        #     128 bit block in plain text.\n",
        "        # Returns\n",
        "        # -------\n",
        "        # decrypted_text : string\n",
        "        #     128 bit block in plain text decrypted with the key given in the class constructor.\n",
        "        \n",
        "\n",
        "        self.encrypted_state = self.text2matrix(text)\n",
        "\n",
        "        self.add_round_key(self.encrypted_state, self.round_keys[len(self.round_keys) - 4:])\n",
        "\n",
        "        for i in range(self.Nr - 1, 0, -1):\n",
        "            self.inv_shift_rows(self.encrypted_state)\n",
        "            self.inv_sub_bytes(self.encrypted_state)\n",
        "            self.add_round_key(self.encrypted_state, self.round_keys[self.Nb * i : self.Nb * (i + 1)])\n",
        "            self.inv_mix_columns(self.encrypted_state)\n",
        "\n",
        "        self.inv_shift_rows(self.encrypted_state)\n",
        "        self.inv_sub_bytes(self.encrypted_state)\n",
        "        self.add_round_key(self.encrypted_state, self.round_keys[:4])\n",
        "\n",
        "        return self.matrix2text(self.encrypted_state)\n",
        "\n",
        "def pad(block, block_length):\n",
        "    \n",
        "    # Pads a block with padding bytes to make it to the required length, in this case, 128 bits.\n",
        "    # PKCS5 padding\n",
        "    \n",
        "    # Parameters\n",
        "    # ----------\n",
        "    # block : string\n",
        "    #     Block to be padded written in hexadecimal as string.\n",
        "    # block_length : int\n",
        "    #     Block length in bytes.\n",
        "    # Returns\n",
        "    \n",
        "    # -------\n",
        "    # block : string\n",
        "    #     Block padded\n",
        "    \n",
        "    bytes_to_pad = block_length - len(block) // 2\n",
        "\n",
        "    for _ in range(bytes_to_pad):\n",
        "        block += format(bytes_to_pad, '02x')\n",
        "\n",
        "    return block\n",
        "\n",
        "def unpad(block):\n",
        "    \n",
        "    # Unpads a block padded with pad() method.\n",
        "    # Parameters\n",
        "    # ----------\n",
        "    # block : string\n",
        "    #     Block to be unpadded written in hexadecimal as string.\n",
        "    # Returns\n",
        "    # -------\n",
        "    \n",
        "    # block : string\n",
        "    #     Block padded\n",
        "    \n",
        "    bytes_to_unpad = int(block[-2:], 16)\n",
        "    return block[:-bytes_to_unpad*2]\n",
        "\n",
        "def xor_blocks(block_1, block_2):\n",
        "    \n",
        "    # XOR two blocks written in hexadecimal as string.\n",
        "    # Parameters\n",
        "    # ----------\n",
        "    # block_1 : string\n",
        "    #     Block of bytes written in hexadecimal.\n",
        "    # block_2 : string\n",
        "    #     Block of bytes written in hexadecimal.\n",
        "    # Returns\n",
        "    # -------\n",
        "    # xorted_block : string\n",
        "    #     XORted block written in hexadecimal as string\n",
        "    \n",
        "    return format(int(block_1, 16) ^ int(block_2, 16), '032x') #02x\n",
        "\n",
        "def generate_random_iv(iv_length):\n",
        "    \n",
        "    # Generates a random Initialization Vector of iv_length bytes written in hexadecimal as string.\n",
        "    # Parameters\n",
        "    # ----------\n",
        "    # iv_length : int\n",
        "    #     Initialization Vector length in bytes\n",
        "    # Returns\n",
        "    # -------\n",
        "    # iv : string\n",
        "    #     Initialization Vector written in hexadecimal as string\n",
        "    \n",
        "    return bytes.hex(os.urandom(iv_length))\n",
        "\n",
        "def generate_random_ctr():\n",
        "    \n",
        "    # Generates a random counter using the method of generating a random IV of 8 bytes and appending \n",
        "    # another 8 bytes of 0s to the end. The part of the IV is known as nonce and the part of the 0s as counter.\n",
        "    # Returns\n",
        "    # -------\n",
        "    # counter : string\n",
        "    #     Random counter written in hexadecimal as string.\n",
        "    \n",
        "    return generate_random_iv(8) + \"0000000000000000\"\n",
        "\n",
        "def increment_ctr(ctr):\n",
        "    \n",
        "    # Increments one the counter.\n",
        "    # Parameters\n",
        "    # ----------\n",
        "    # ctr : string\n",
        "    #     Counter\n",
        "    # Returns\n",
        "    # -------\n",
        "    # incremented_counter : string\n",
        "    #     Incremented Counter\n",
        "    \n",
        "    ctr_inc_int = int.from_bytes(bytes.fromhex(ctr), byteorder=\"big\") + 1\n",
        "    return bytes.hex(ctr_inc_int.to_bytes(length=16, byteorder=\"big\"))\n",
        "\n",
        "\n"
      ],
      "metadata": {
        "id": "ojz2gkXkDx_w"
      },
      "execution_count": null,
      "outputs": []
    },
    {
      "cell_type": "code",
      "source": [
        "class FileTools:\n",
        "    \n",
        "    # A class used to open and write files as binary, and transform its content to hexadecimal.\n",
        "    \n",
        "\n",
        "    @staticmethod\n",
        "    def open_file(filename, chunk_size):\n",
        "        chunk_size = chunk_size//2\n",
        "       \n",
        "        # Opens a file as binary and puts its content into an array in which each array cell is \n",
        "        # chunk_size bits in hexadecimal form written as string.\n",
        "        # Parameters\n",
        "        # ----------\n",
        "        # filename : string\n",
        "        #     Filename to read\n",
        "        # chunk_size : int\n",
        "        #     Chunk size\n",
        "        # Returns\n",
        "        # -------\n",
        "        # hex_array : array\n",
        "        #     Content of the file splitted in chunks.\n",
        "        \n",
        "        with open(filename, \"rb\") as f:\n",
        "            hex_array = []\n",
        "            for offset in range(0, os.path.getsize(filename), chunk_size):\n",
        "                hex_array.append(bytes.hex(f.read(chunk_size)))\n",
        "                # f.seek(offset + chunk_size)\n",
        "\n",
        "            f.close()\n",
        "        # print(\"hex_array:\\t\", hex_array)\n",
        "        return hex_array\n",
        "\n",
        "    @staticmethod\n",
        "    def write_file(filename, block_array):\n",
        "        \n",
        "        # Write the content passed in hexadecimal splitted in chunks of 128 bits inside an array into a\n",
        "        # new file.\n",
        "        # Parameters\n",
        "        # ----------\n",
        "        # filename : string\n",
        "        #     New file name\n",
        "        # block_array : array\n",
        "        #     Array with hexadecimal chunks of 128 bits.\n",
        "        \n",
        "        with open(filename, \"wb\") as f:\n",
        "            for i in range(len(block_array)):\n",
        "                f.write(bytes.fromhex(block_array[i]))\n",
        "\n",
        "            f.close()"
      ],
      "metadata": {
        "id": "GSp3uZ-mijyY"
      },
      "execution_count": null,
      "outputs": []
    },
    {
      "cell_type": "code",
      "source": [
        "class ECB:   ## Electronic Codebook \n",
        "    \n",
        "    # A class used to encapsulate every method and attribute necessary to encrypt using ECB block\n",
        "    # cipher mode of operation.\n",
        "    # Parameters\n",
        "    # ----------\n",
        "    # block_cipher_alg : object\n",
        "    #     Block cypher algorithm object\n",
        "    \n",
        "\n",
        "    def __init__(self, block_cipher_alg):\n",
        "        self.block_cipher_alg = block_cipher_alg\n",
        "\n",
        "    def cipher(self, filename, encrypted_file_name):\n",
        "        \n",
        "        # Ciphers file with ECB and block cipher algorithm passed in class constructor.\n",
        "        # Parameters\n",
        "        # ----------\n",
        "        # filename : string\n",
        "        #     Name of file to cipher\n",
        "        # encrypted_file_name : string\n",
        "        #     Name of the encrypted file.\n",
        "        \n",
        "        hex_array = FileTools.open_file(filename, 32)\n",
        "\n",
        "        # check if last block need to be padded\n",
        "        if len(hex_array[-1]) < 32:\n",
        "            hex_array[-1] = pad(hex_array[-1], 16)\n",
        "\n",
        "        cipher_array = []\n",
        "        for i in tqdm(range(len(hex_array)), desc=\"ECB encryption\"):\n",
        "            cipher_array.append(self.block_cipher_alg.cipher(hex_array[i]))\n",
        "\n",
        "        FileTools.write_file(encrypted_file_name, cipher_array)\n",
        "\n",
        "    def decipher(self, filename, decrypted_file_name):\n",
        "        \n",
        "        # Deciphers file with ECB and block cipher algorithm passed in class constructor.\n",
        "        # Parameters\n",
        "        # ----------\n",
        "        # filename : string\n",
        "        #     Name of file to decipher\n",
        "        # decrypted_file_name : string\n",
        "        #     Decrypted file name\n",
        "        \n",
        "        hex_array = FileTools.open_file(filename, 32)\n",
        "        decrypted_array = []\n",
        "        for i in tqdm(range(len(hex_array)), desc=\"ECB decryption\"):\n",
        "            decrypted_array.append(self.block_cipher_alg.decipher(hex_array[i]))\n",
        "\n",
        "        # unpad last block\n",
        "        decrypted_array[-1] = unpad(decrypted_array[-1])\n",
        "\n",
        "        FileTools.write_file(decrypted_file_name, decrypted_array)\n",
        "        \n",
        "\n"
      ],
      "metadata": {
        "id": "z2EEKm_DfPbw"
      },
      "execution_count": null,
      "outputs": []
    },
    {
      "cell_type": "code",
      "source": [
        "## Encrypting using ECB Mode\n",
        "key = random_key_generator(128)\n",
        "obj1 = AES(key)\n",
        "obj2 = ECB(obj1)\n",
        "\n",
        "obj2.cipher(\"/content/msg.txt\", \"enc_ecb.txt\")  ## storing the encrypted msg in a new file named as: enc_ecb.txt"
      ],
      "metadata": {
        "colab": {
          "base_uri": "https://localhost:8080/"
        },
        "id": "rHFDxULuKtKy",
        "outputId": "a5b2befd-ad15-4f5c-81c3-01f95b4f1fdb"
      },
      "execution_count": null,
      "outputs": [
        {
          "output_type": "stream",
          "name": "stderr",
          "text": [
            "ECB encryption: 100%|██████████| 2/2 [00:00<00:00, 1157.05it/s]\n"
          ]
        }
      ]
    },
    {
      "cell_type": "code",
      "source": [
        "## Decrypting the enc_ecb.txt obtained from above encryption \n",
        "obj2.decipher(\"enc_ecb.txt\", \"dec_ecb.txt\")   ## storing the decrypted msg in a new file named as: dec_ecb.txt"
      ],
      "metadata": {
        "colab": {
          "base_uri": "https://localhost:8080/"
        },
        "id": "i77aoJEIJBpp",
        "outputId": "c89ae922-c84f-44c6-d75c-b723ee853200"
      },
      "execution_count": null,
      "outputs": [
        {
          "output_type": "stream",
          "name": "stderr",
          "text": [
            "ECB decryption: 100%|██████████| 2/2 [00:00<00:00, 916.69it/s]\n"
          ]
        }
      ]
    },
    {
      "cell_type": "code",
      "source": [
        "## Encrypting another file using ECB Mode\n",
        "key = random_key_generator(128)\n",
        "obj1 = AES(key)\n",
        "obj2 = ECB(obj1)\n",
        "\n",
        "obj2.cipher(\"/content/msg2.txt\", \"enc_ecb2.txt\")  ## storing the encrypted msg in a new file named as: enc_ecb2.txt\n",
        "\n",
        "## Decrypting the enc_ecb_ecb2.txt obtained from above encryption \n",
        "obj2.decipher(\"enc_ecb2.txt\", \"dec_ecb2.txt\")   ## storing the decrypted msg in a new file named as: dec_ecb2.txt"
      ],
      "metadata": {
        "colab": {
          "base_uri": "https://localhost:8080/"
        },
        "id": "4wcxGrVw4j58",
        "outputId": "27f9d6a3-16a7-4141-84eb-db27bf64f61c"
      },
      "execution_count": null,
      "outputs": [
        {
          "output_type": "stream",
          "name": "stderr",
          "text": [
            "ECB encryption: 100%|██████████| 5/5 [00:00<00:00, 1437.00it/s]\n",
            "ECB decryption: 100%|██████████| 5/5 [00:00<00:00, 1191.16it/s]\n"
          ]
        }
      ]
    },
    {
      "cell_type": "code",
      "source": [
        "class CBC:   ## Cipher Block Chaining\n",
        "    \n",
        "    # A class used to encapsulate every method and attribute necessary to encrypt using CBC block\n",
        "    # cipher mode of operation.\n",
        "    # Parameters\n",
        "    # ----------\n",
        "    # block_cipher_alg : object\n",
        "    #     Block cypher algorithm object.\n",
        "    # iv_length : int\n",
        "    #     Length of the Initialization Vector in bytes.\n",
        "    \n",
        "\n",
        "    def __init__(self, block_cipher_alg, iv_length):\n",
        "        self.block_cipher_alg = block_cipher_alg\n",
        "        self.iv = generate_random_iv(iv_length)\n",
        "\n",
        "    def cipher(self, filename, encrypted_file_name):\n",
        "        \n",
        "        # Ciphers file with CBC an block cipher algorithm passed in class constructor.\n",
        "        # Parameters\n",
        "        # ----------\n",
        "        # filename : string\n",
        "        #     Name of file to cipher\n",
        "        # encrypted_file_name : string\n",
        "        #     Name of the encrypted file.\n",
        "        \n",
        "        hex_array = FileTools.open_file(filename, 32)\n",
        "\n",
        "        # check if last block need to be padded\n",
        "        if len(hex_array[-1]) < 32:\n",
        "            hex_array[-1] = pad(hex_array[-1], 16)\n",
        "\n",
        "        # Prefix the IV to the cipher text.\n",
        "        cipher_array = [self.iv]\n",
        "\n",
        "        iv = self.iv\n",
        "        for i in tqdm(range(len(hex_array)), desc=\"CBC encryption\"):\n",
        "            block_to_cipher = xor_blocks(iv, hex_array[i])\n",
        "            cipher_array.append(self.block_cipher_alg.cipher(block_to_cipher))\n",
        "\n",
        "            # the ciphered block will be the \"IV\" for the next block\n",
        "            iv = cipher_array[i + 1]\n",
        "\n",
        "        FileTools.write_file(encrypted_file_name, cipher_array)\n",
        "\n",
        "    def decipher(self, filename, decrypted_file_name):\n",
        "        \n",
        "        # Deciphers file with ECB and block cipher algorithm passed in class constructor.\n",
        "        # Parameters\n",
        "        # ----------\n",
        "        # filename : string\n",
        "        #     Name of file to decipher\n",
        "        # decrypted_file_name : string\n",
        "        #     Decrypted file name\n",
        "        \n",
        "        hex_array = FileTools.open_file(filename, 32)\n",
        "        \n",
        "        iv = self.iv\n",
        "\n",
        "        decrypted_array = []\n",
        "        \n",
        "        for i in tqdm(range(1, len(hex_array)), desc=\"CBC decryption\"):\n",
        "            # print(hex_array[i])\n",
        "            k = self.block_cipher_alg.decipher(hex_array[i])\n",
        "            print(\"k:\\t\", k)\n",
        "            decrypted_array.append(k)\n",
        "            decrypted_array[i - 1] = xor_blocks(iv, decrypted_array[i - 1])\n",
        "\n",
        "            # the ciphered block will be the \"IV\" for the next block\n",
        "            iv = hex_array[i]\n",
        "\n",
        "        # unpad last block\n",
        "        decrypted_array[-1] = unpad(decrypted_array[-1])\n",
        "\n",
        "        FileTools.write_file(decrypted_file_name, decrypted_array)\n"
      ],
      "metadata": {
        "id": "mTKlZuDjfbDX"
      },
      "execution_count": null,
      "outputs": []
    },
    {
      "cell_type": "code",
      "source": [
        "## Encrypting using CBC Mode\n",
        "key = random_key_generator(128)\n",
        "obj1 = AES(key)\n",
        "obj2 = CBC(obj1, 16)\n",
        "\n",
        "obj2.cipher(\"/content/msg.txt\", \"enc_cbc.txt\")  ## storing the encrypted msg in a new file named as: enc_cbc.txt"
      ],
      "metadata": {
        "colab": {
          "base_uri": "https://localhost:8080/"
        },
        "id": "a0QBjw49hl47",
        "outputId": "4bfa26c0-0b04-411a-f51b-cc03cc7ce51e"
      },
      "execution_count": null,
      "outputs": [
        {
          "output_type": "stream",
          "name": "stderr",
          "text": [
            "CBC encryption: 100%|██████████| 2/2 [00:00<00:00, 1271.77it/s]\n"
          ]
        }
      ]
    },
    {
      "cell_type": "code",
      "source": [
        "## Decrypting the enc_cbc.txt obtained from above encryption \n",
        "obj2.decipher(\"enc_cbc.txt\", \"dec_cbc.txt\")   ## storing the decrypted msg in a new file named as: dec_cbc.txt"
      ],
      "metadata": {
        "colab": {
          "base_uri": "https://localhost:8080/"
        },
        "id": "_AjEHlaPiG1j",
        "outputId": "0e125097-9cc1-4ee4-8830-9494ce3f7850"
      },
      "execution_count": null,
      "outputs": [
        {
          "output_type": "stream",
          "name": "stderr",
          "text": [
            "CBC decryption: 100%|██████████| 2/2 [00:00<00:00, 622.16it/s]"
          ]
        },
        {
          "output_type": "stream",
          "name": "stdout",
          "text": [
            "k:\t 3dff5959c13de1a4eb4f26c835ebe149\n",
            "k:\t 296a83095c38e0981439229b509880f1\n"
          ]
        },
        {
          "output_type": "stream",
          "name": "stderr",
          "text": [
            "\n"
          ]
        }
      ]
    },
    {
      "cell_type": "code",
      "source": [
        "## Encrypting another file using CBC Mode\n",
        "key = random_key_generator(128)\n",
        "obj1 = AES(key)\n",
        "obj2 = CBC(obj1, 16)\n",
        "\n",
        "obj2.cipher(\"/content/msg2.txt\", \"enc_cbc2.txt\")  ## storing the encrypted msg in a new file named as: enc_cbc2.txt\n",
        "\n",
        "## Decrypting the enc_cbc2.txt obtained from above encryption \n",
        "obj2.decipher(\"enc_cbc2.txt\", \"dec_cbc2.txt\")   ## storing the decrypted msg in a new file named as: dec_cbc2.txt"
      ],
      "metadata": {
        "colab": {
          "base_uri": "https://localhost:8080/"
        },
        "id": "wlmFXvRk5F-X",
        "outputId": "59f6f047-13c9-4769-e1dc-5f510680269f"
      },
      "execution_count": null,
      "outputs": [
        {
          "output_type": "stream",
          "name": "stderr",
          "text": [
            "CBC encryption: 100%|██████████| 5/5 [00:00<00:00, 1524.09it/s]\n",
            "CBC decryption: 100%|██████████| 5/5 [00:00<00:00, 612.93it/s]"
          ]
        },
        {
          "output_type": "stream",
          "name": "stdout",
          "text": [
            "k:\t c45d286f5ad4827d06c1be53b0598c68\n",
            "k:\t f720fdd724479a723a02fed801479b3b\n",
            "k:\t 796df8512e34d1999e54b053b339d0eb\n",
            "k:\t b0ed2590394830a9ac53e4676d71bdec\n",
            "k:\t 0d7b9c060aa6c5e8d459ef8a38803e8c\n"
          ]
        },
        {
          "output_type": "stream",
          "name": "stderr",
          "text": [
            "\n"
          ]
        }
      ]
    },
    {
      "cell_type": "code",
      "source": [
        "class CFB:  ## Cipher Feedback\n",
        "\n",
        "        # A class used to encapsulate every method and attribute necessary to encrypt using CFB block\n",
        "        # cipher mode of operation.\n",
        "        # Parameters\n",
        "        # ----------\n",
        "        # block_cipher_alg : object\n",
        "        #     Block cypher algorithm object.\n",
        "        # iv_length : int\n",
        "        #     Length of the Initialization Vector in bytes.\n",
        "\n",
        "        def __init__(self, block_cipher_alg, iv_length):\n",
        "          self.block_cipher_alg = block_cipher_alg\n",
        "          self.iv = generate_random_iv(iv_length)\n",
        "          \n",
        "        def cipher(self, filename, encrypted_file_name):\n",
        "        \n",
        "        # Ciphers file with CFB a block cipher algorithm passed in class constructor.\n",
        "        # Parameters\n",
        "        # ----------\n",
        "        # filename : string\n",
        "        #     Name of file to cipher\n",
        "        # encrypted_file_name : string\n",
        "        #     Name of the encrypted file.\n",
        "        \n",
        "          hex_array = FileTools.open_file(filename, 2)\n",
        "          # print(hex_array)\n",
        "\n",
        "        # check if last block need to be padded\n",
        "          # if len(hex_array[-1]) < 4:\n",
        "          #   hex_array[-1] = pad(hex_array[-1], 2)\n",
        "\n",
        "        # Prefix the IV to the cipher text.\n",
        "          cipher_array = []\n",
        "          # print(cipher_array)\n",
        "\n",
        "          iv = self.iv\n",
        "          for i in tqdm(range(len(hex_array)), desc=\"CFB encryption\"):\n",
        "            ec = self.block_cipher_alg.cipher(iv)\n",
        "            p1 = iv[:2]\n",
        "            p2 = iv[2:]\n",
        "            block_to_cipher = format(int(p1, 16) ^ int(hex_array[i], 16), '02x') \n",
        "            # block_to_cipher = block_to_cipher[-4:]\n",
        "            # print(\"cipher text:\\t\", block_to_cipher)\n",
        "            # print(\"btc:\\t\", block_to_cipher)\n",
        "            # k = self.block_cipher_alg.cipher(block_to_cipher)\n",
        "            # print(\"k:\\t\", k)\n",
        "            \n",
        "\n",
        "          # the ciphered block will be the \"IV\" for the next block\n",
        "            iv = p2 + block_to_cipher \n",
        "            \n",
        "            cipher_array.append(block_to_cipher)\n",
        "\n",
        "          # print(\"len:\\t\", len(''.join(cipher_array)))\n",
        "          # print(\"cipher_array:\\t\", cipher_array)\n",
        "           \n",
        "          FileTools.write_file(encrypted_file_name, cipher_array)\n",
        "\n",
        "        def decipher(self, filename, decrypted_file_name):\n",
        "                    \n",
        "          hex_array = FileTools.open_file(filename, 2)\n",
        "          print(\"\\t\", len(hex_array))\n",
        "                    \n",
        "          iv = self.iv\n",
        "                    \n",
        "          decrypted_array = []\n",
        "          \n",
        "          for i in tqdm(range(len(hex_array)), desc =\"CFB decryption\"):\n",
        "              enc = self.block_cipher_alg.cipher(iv)\n",
        "              p1 = iv[:2]\n",
        "              p2 = iv[2:]\n",
        "              \n",
        "              cipher_to_block = format(int(p1, 16) ^ int(hex_array[i], 16), '02x')\n",
        "                                      \n",
        "              decrypted_array.append(cipher_to_block)\n",
        "              \n",
        "\n",
        "            # the ciphered block will be the \"IV\" for the next block\n",
        "              iv = p2 + hex_array[i]\n",
        "\n",
        "        # unpad last block\n",
        "          # decrypted_array[-1] = unpad(decrypted_array[-1])\n",
        "\n",
        "          FileTools.write_file(decrypted_file_name, decrypted_array)"
      ],
      "metadata": {
        "id": "8YAMbbhRg_I8"
      },
      "execution_count": null,
      "outputs": []
    },
    {
      "cell_type": "code",
      "source": [
        "## Encrypting using CFB Mode\n",
        "key = random_key_generator(128)\n",
        "obj1 = AES(key)\n",
        "obj2 = CFB(obj1,16)\n",
        "\n",
        "obj2.cipher(\"/content/msg.txt\", \"enc_cfb.txt\")  ## storing the encrypted msg in a new file named as: enc_cfb.txt"
      ],
      "metadata": {
        "id": "8gsF_E5xK85J",
        "colab": {
          "base_uri": "https://localhost:8080/"
        },
        "outputId": "e9dd4a1d-0336-4767-e41c-7ac35d7e71c2"
      },
      "execution_count": null,
      "outputs": [
        {
          "output_type": "stream",
          "name": "stderr",
          "text": [
            "CFB encryption: 100%|██████████| 24/24 [00:00<00:00, 2331.68it/s]\n"
          ]
        }
      ]
    },
    {
      "cell_type": "code",
      "source": [
        "## Decrypting the enc_cfb.txt obtained from above encryption \n",
        "obj2.decipher(\"enc_cfb.txt\", \"dec_cfb.txt\")   ## storing the decrypted msg in a new file named as: dec_cfb.txt"
      ],
      "metadata": {
        "id": "_m9QNfVM4M1L",
        "colab": {
          "base_uri": "https://localhost:8080/"
        },
        "outputId": "4f5fd2fd-82b7-4d98-cd7c-c670cacb31fd"
      },
      "execution_count": null,
      "outputs": [
        {
          "output_type": "stream",
          "name": "stdout",
          "text": [
            "\t 24\n"
          ]
        },
        {
          "output_type": "stream",
          "name": "stderr",
          "text": [
            "CFB decryption: 100%|██████████| 24/24 [00:00<00:00, 1522.25it/s]\n"
          ]
        }
      ]
    },
    {
      "cell_type": "code",
      "source": [
        "## Encrypting using CFB Mode\n",
        "key = random_key_generator(128)\n",
        "obj1 = AES(key)\n",
        "obj2 = CFB(obj1,16)\n",
        "\n",
        "obj2.cipher(\"/content/msg2.txt\", \"enc_cfb2.txt\")  ## storing the encrypted msg in a new file named as: enc_cfb2.txt\n",
        "\n",
        "## Decrypting the enc_cfb2.txt obtained from above encryption \n",
        "obj2.decipher(\"enc_cfb2.txt\", \"dec_cfb2.txt\")   ## storing the decrypted msg in a new file named as: dec_cfb2.txt"
      ],
      "metadata": {
        "colab": {
          "base_uri": "https://localhost:8080/"
        },
        "id": "aQf5lKmV6NAW",
        "outputId": "01de951a-f21b-4258-8482-39fd6411186d"
      },
      "execution_count": null,
      "outputs": [
        {
          "output_type": "stream",
          "name": "stderr",
          "text": [
            "CFB encryption: 100%|██████████| 69/69 [00:00<00:00, 2497.75it/s]\n"
          ]
        },
        {
          "output_type": "stream",
          "name": "stdout",
          "text": [
            "\t 69\n"
          ]
        },
        {
          "output_type": "stream",
          "name": "stderr",
          "text": [
            "CFB decryption: 100%|██████████| 69/69 [00:00<00:00, 2899.93it/s]\n"
          ]
        }
      ]
    },
    {
      "cell_type": "code",
      "source": [
        "class OFB:  ## Output Feedback\n",
        "\n",
        "        # A class used to encapsulate every method and attribute necessary to encrypt using CFB block\n",
        "        # cipher mode of operation.\n",
        "        # Parameters\n",
        "        # ----------\n",
        "        # block_cipher_alg : object\n",
        "        #     Block cypher algorithm object.\n",
        "        # iv_length : int\n",
        "        #     Length of the Initialization Vector in bytes.\n",
        "\n",
        "        def __init__(self, block_cipher_alg, iv_length):\n",
        "          self.block_cipher_alg = block_cipher_alg\n",
        "          self.iv = generate_random_iv(iv_length)\n",
        "\n",
        "        def cipher(self, filename, encrypted_file_name):\n",
        "        \n",
        "        # Ciphers file with CFB a block cipher algorithm passed in class constructor.\n",
        "        # Parameters\n",
        "        # ----------\n",
        "        # filename : string\n",
        "        #     Name of file to cipher\n",
        "        # encrypted_file_name : string\n",
        "        #     Name of the encrypted file.\n",
        "        \n",
        "          hex_array = FileTools.open_file(filename, 32)\n",
        "\n",
        "        # check if last block need to be padded\n",
        "          if len(hex_array[-1]) < 32:\n",
        "            hex_array[-1] = pad(hex_array[-1], 16)\n",
        "\n",
        "        # Prefix the IV to the cipher text.\n",
        "          cipher_array = []\n",
        "\n",
        "          iv = self.iv\n",
        "          for i in tqdm(range(len(hex_array)), desc=\"OFB encryption\"):\n",
        "              ec = self.block_cipher_alg.cipher(iv)\n",
        "              block_to_cipher = format(int(ec, 16) ^ int(hex_array[i], 16), '02x') \n",
        "              cipher_array.append(block_to_cipher)\n",
        "              # cipher_array.append(self.block_cipher_alg.cipher(block_to_cipher))\n",
        "\n",
        "            # the ciphered block will be the \"IV\" for the next block\n",
        "              iv = ec\n",
        "\n",
        "          FileTools.write_file(encrypted_file_name, cipher_array)\n",
        "\n",
        "        def decipher(self, filename, decrypted_file_name):\n",
        "          \n",
        "          hex_array = FileTools.open_file(filename, 32)\n",
        "          \n",
        "          iv = self.iv\n",
        "\n",
        "          decrypted_array = []\n",
        "          for i in tqdm(range(len(hex_array)), desc=\"OFB decryption\"):\n",
        "              ec = self.block_cipher_alg.cipher(iv)\n",
        "              # dec = format(int(ec, 16) ^ int(hex_array[i], 16), '02x') \n",
        "              dec = xor_blocks(ec, hex_array[i])\n",
        "              decrypted_array.append(dec)\n",
        "              # decrypted_array.append(self.block_cipher_alg.decipher(hex_array[i]))\n",
        "              # decrypted_array[i - 1] = xor_blocks(iv, decrypted_array[i - 1])\n",
        "\n",
        "            # the ciphered block will be the \"IV\" for the next block\n",
        "              iv = ec\n",
        "\n",
        "        # unpad last block\n",
        "          decrypted_array[-1] = unpad(decrypted_array[-1])\n",
        "\n",
        "          FileTools.write_file(decrypted_file_name, decrypted_array)"
      ],
      "metadata": {
        "id": "HEba31USr7RY"
      },
      "execution_count": null,
      "outputs": []
    },
    {
      "cell_type": "code",
      "source": [
        "## Encrypting using OFB Mode\n",
        "key = random_key_generator(128)\n",
        "obj1 = AES(key)\n",
        "obj2 = OFB(obj1,16)\n",
        "\n",
        "obj2.cipher(\"/content/msg.txt\", \"enc_ofb.txt\")  ## storing the encrypted msg in a new file named as: enc_ofb.txt"
      ],
      "metadata": {
        "id": "9Mjw1nYcjj5F",
        "colab": {
          "base_uri": "https://localhost:8080/"
        },
        "outputId": "5af6e87d-515a-4065-c226-d83fd2b98184"
      },
      "execution_count": null,
      "outputs": [
        {
          "output_type": "stream",
          "name": "stderr",
          "text": [
            "OFB encryption: 100%|██████████| 2/2 [00:00<00:00, 335.37it/s]\n"
          ]
        }
      ]
    },
    {
      "cell_type": "code",
      "source": [
        "## Decrypting the enc_ofb.txt obtained from above encryption \n",
        "obj2.decipher(\"enc_ofb.txt\", \"dec_ofb.txt\")   ## storing the decrypted msg in a new file named as: dec_ofb.txt"
      ],
      "metadata": {
        "id": "e1m4ACqulG9l",
        "colab": {
          "base_uri": "https://localhost:8080/"
        },
        "outputId": "5897de8c-5d2b-4da7-903b-1c51fc9be651"
      },
      "execution_count": null,
      "outputs": [
        {
          "output_type": "stream",
          "name": "stderr",
          "text": [
            "OFB decryption: 100%|██████████| 2/2 [00:00<00:00, 1544.58it/s]\n"
          ]
        }
      ]
    },
    {
      "cell_type": "code",
      "source": [
        "## Encrypting using OFB Mode\n",
        "key = random_key_generator(128)\n",
        "obj1 = AES(key)\n",
        "obj2 = OFB(obj1,16)\n",
        "\n",
        "obj2.cipher(\"/content/msg2.txt\", \"enc_ofb2.txt\")  ## storing the encrypted msg in a new file named as: enc_ofb2.txt\n",
        "\n",
        "## Decrypting the enc_ofb2.txt obtained from above encryption \n",
        "obj2.decipher(\"enc_ofb2.txt\", \"dec_ofb2.txt\")   ## storing the decrypted msg in a new file named as: dec_ofb2.txt"
      ],
      "metadata": {
        "colab": {
          "base_uri": "https://localhost:8080/"
        },
        "id": "44FomXMl6yAw",
        "outputId": "be0f1e45-3919-47a1-fcd4-8e3d67e684b4"
      },
      "execution_count": null,
      "outputs": [
        {
          "output_type": "stream",
          "name": "stderr",
          "text": [
            "OFB encryption: 100%|██████████| 5/5 [00:00<00:00, 2326.81it/s]\n",
            "OFB decryption: 100%|██████████| 5/5 [00:00<00:00, 2007.23it/s]\n"
          ]
        }
      ]
    },
    {
      "cell_type": "code",
      "source": [
        "class CTR:   ## Counter\n",
        "    \n",
        "    # A class used to encapsulate every method and attribute necessary to encrypt using CTR block\n",
        "    # cipher mode of operation.\n",
        "    # Parameters\n",
        "    # ----------\n",
        "    # block_cipher_alg : object\n",
        "    #     Block cypher algorithm object.\n",
        "    \n",
        "\n",
        "    def __init__(self, block_cipher_alg):\n",
        "        self.block_cipher_alg = block_cipher_alg\n",
        "        # self.ctr = generate_random_ctr()\n",
        "\n",
        "    def cipher(self, filename, encrypted_file_name):\n",
        "        \n",
        "        # Ciphers file with CTR an block cipher algorithm passed in class constructor.\n",
        "        # Parameters\n",
        "        # ----------\n",
        "        # filename : string\n",
        "        #     Name of file to cipher\n",
        "        # encrypted_file_name : string\n",
        "        #     Name of the encrypted file.\n",
        "        \n",
        "        hex_array = FileTools.open_file(filename, 32)\n",
        "\n",
        "        if len(hex_array[-1]) < 32:\n",
        "            hex_array[-1] = pad(hex_array[-1], 16)\n",
        "\n",
        "        # Prefix the ctr to the cipher text.\n",
        "        ctr = generate_random_ctr()\n",
        "        cipher_array = [ctr]\n",
        "\n",
        "        # ctr = self.ctr\n",
        "        for i in tqdm(range(len(hex_array)), desc=\"CTR encryption\"):\n",
        "            ctr_encrypted = self.block_cipher_alg.cipher(ctr)\n",
        "            enc = xor_blocks(ctr_encrypted, hex_array[i])\n",
        "            cipher_array.append(enc)\n",
        "            ctr = increment_ctr(ctr)\n",
        "\n",
        "        FileTools.write_file(encrypted_file_name, cipher_array)\n",
        "\n",
        "        \n",
        "    def decipher(self, filename, decrypted_file_name):\n",
        "        \n",
        "        # Deciphers file with ECB and block cipher algorithm passed in class constructor.\n",
        "        # Parameters\n",
        "        # ----------\n",
        "        # filename : string\n",
        "        #     Name of file to decipher\n",
        "        # decrypted_file_name : string\n",
        "        #     Decryted file name\n",
        "      \n",
        "        hex_array = FileTools.open_file(filename, 32)\n",
        "        ctr = hex_array[0]\n",
        "        decrypted_array = []\n",
        "        for i in tqdm(range(1, len(hex_array)), desc=\"CTR decryption\"):\n",
        "            ctr_encrypted = self.block_cipher_alg.cipher(ctr)\n",
        "            enc = xor_blocks(ctr_encrypted, hex_array[i])\n",
        "            decrypted_array.append(enc)\n",
        "            ctr = increment_ctr(ctr)\n",
        "\n",
        "        decrypted_array[-1] = unpad(decrypted_array[-1])\n",
        "\n",
        "        FileTools.write_file(decrypted_file_name, decrypted_array)"
      ],
      "metadata": {
        "id": "Knuprd3ufVPa"
      },
      "execution_count": null,
      "outputs": []
    },
    {
      "cell_type": "code",
      "source": [
        "## Encrypting using CTR Mode\n",
        "key = random_key_generator(128)\n",
        "obj1 = AES(key)\n",
        "obj2 = CTR(obj1)\n",
        "\n",
        "obj2.cipher(\"/content/msg.txt\", \"enc_ctr.txt\")  ## storing the encrypted msg in a new file named as: enc_ctr.txt"
      ],
      "metadata": {
        "id": "egmPhjAXa3pr",
        "colab": {
          "base_uri": "https://localhost:8080/"
        },
        "outputId": "c28103fb-3a86-436e-a8d8-c6d15a10ae85"
      },
      "execution_count": null,
      "outputs": [
        {
          "output_type": "stream",
          "name": "stderr",
          "text": [
            "CTR encryption: 100%|██████████| 2/2 [00:00<00:00, 1848.93it/s]\n"
          ]
        }
      ]
    },
    {
      "cell_type": "code",
      "source": [
        "## Decrypting the enc_ctr.txt obtained from above encryption \n",
        "obj2.decipher(\"enc_ctr.txt\", \"dec_ctr.txt\")   ## storing the decrypted msg in a new file named as: dec_ctr.txt"
      ],
      "metadata": {
        "id": "JGSKV0U0bGzh",
        "colab": {
          "base_uri": "https://localhost:8080/"
        },
        "outputId": "8cae9862-8ca9-4a95-badd-b0a14a3b895d"
      },
      "execution_count": null,
      "outputs": [
        {
          "output_type": "stream",
          "name": "stderr",
          "text": [
            "CTR decryption: 100%|██████████| 2/2 [00:00<00:00, 1887.63it/s]\n"
          ]
        }
      ]
    },
    {
      "cell_type": "code",
      "source": [
        "## Encrypting another file using CTR Mode\n",
        "key = random_key_generator(128)\n",
        "obj1 = AES(key)\n",
        "obj2 = CTR(obj1)\n",
        "\n",
        "obj2.cipher(\"/content/msg2.txt\", \"enc_ctr2.txt\") \n",
        "## Decrypting the enc_ctr.txt obtained from above encryption \n",
        "obj2.decipher(\"enc_ctr2.txt\", \"dec_ctr2.txt\") "
      ],
      "metadata": {
        "colab": {
          "base_uri": "https://localhost:8080/"
        },
        "id": "WdYSNcfG4K5O",
        "outputId": "f543e428-110c-4d5b-d190-64c3c4bf688c"
      },
      "execution_count": null,
      "outputs": [
        {
          "output_type": "stream",
          "name": "stderr",
          "text": [
            "CTR encryption: 100%|██████████| 7/7 [00:00<00:00, 965.41it/s]\n",
            "CTR decryption: 100%|██████████| 7/7 [00:00<00:00, 1600.36it/s]\n"
          ]
        }
      ]
    }
  ]
}